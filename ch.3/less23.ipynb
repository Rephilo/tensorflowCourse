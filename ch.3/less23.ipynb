{
 "cells": [
  {
   "cell_type": "markdown",
   "metadata": {},
   "source": [
    "用tf.data重写训练mnist"
   ]
  },
  {
   "cell_type": "code",
   "execution_count": 1,
   "metadata": {},
   "outputs": [],
   "source": [
    "import tensorflow as tf "
   ]
  },
  {
   "cell_type": "code",
   "execution_count": 2,
   "metadata": {},
   "outputs": [],
   "source": [
    "(train_image, train_label), (test_image, test_label) = tf.keras.datasets.fashion_mnist.load_data()"
   ]
  },
  {
   "cell_type": "code",
   "execution_count": 3,
   "metadata": {},
   "outputs": [],
   "source": [
    "train_image = train_image / 255\n",
    "test_image = test_image / 255"
   ]
  },
  {
   "cell_type": "code",
   "execution_count": 4,
   "metadata": {},
   "outputs": [],
   "source": [
    "ds_train_img = tf.data.Dataset.from_tensor_slices(train_image)\n",
    "ds_train_lab = tf.data.Dataset.from_tensor_slices(train_label)"
   ]
  },
  {
   "cell_type": "code",
   "execution_count": 17,
   "metadata": {},
   "outputs": [],
   "source": [
    "# 合并两个数组\n",
    "ds_train = tf.data.Dataset.zip((ds_train_img, ds_train_lab))\n",
    "ds_test = tf.data.Dataset.from_tensor_slices((test_image, test_label))"
   ]
  },
  {
   "cell_type": "code",
   "execution_count": 18,
   "metadata": {},
   "outputs": [
    {
     "output_type": "execute_result",
     "data": {
      "text/plain": "<TensorSliceDataset shapes: ((28, 28), ()), types: (tf.float64, tf.uint8)>"
     },
     "metadata": {},
     "execution_count": 18
    }
   ],
   "source": [
    "ds_test"
   ]
  },
  {
   "cell_type": "code",
   "execution_count": 19,
   "metadata": {},
   "outputs": [],
   "source": [
    "ds_train = ds_train.shuffle(10000).repeat().batch(64)\n",
    "ds_test = ds_test.batch(64)"
   ]
  },
  {
   "cell_type": "code",
   "execution_count": 11,
   "metadata": {},
   "outputs": [],
   "source": [
    "model = tf.keras.Sequential(\n",
    "    [\n",
    "        tf.keras.layers.Flatten(input_shape=(28, 28)),\n",
    "        tf.keras.layers.Dense(128, activation='relu'),\n",
    "        tf.keras.layers.Dense(10, activation='softmax')\n",
    "    ]\n",
    ")"
   ]
  },
  {
   "cell_type": "code",
   "execution_count": 12,
   "metadata": {},
   "outputs": [],
   "source": [
    "model.compile(\n",
    "    optimizer='adam',\n",
    "    loss='sparse_categorical_crossentropy',\n",
    "    metrics=['accuracy']\n",
    ")"
   ]
  },
  {
   "cell_type": "code",
   "execution_count": 15,
   "metadata": {},
   "outputs": [],
   "source": [
    "# 每个epoch要训练多少次\n",
    "steps_per_epoches = train_image.shape[0] // 64\n"
   ]
  },
  {
   "cell_type": "code",
   "execution_count": 20,
   "metadata": {},
   "outputs": [
    {
     "output_type": "stream",
     "name": "stdout",
     "text": "Epoch 1/5\n937/937 [==============================] - 2s 2ms/step - loss: 0.2403 - accuracy: 0.9103 - val_loss: 0.3271 - val_accuracy: 0.8855\nEpoch 2/5\n937/937 [==============================] - 2s 2ms/step - loss: 0.2328 - accuracy: 0.9143 - val_loss: 0.3284 - val_accuracy: 0.8836\nEpoch 3/5\n937/937 [==============================] - 2s 2ms/step - loss: 0.2278 - accuracy: 0.9153 - val_loss: 0.3262 - val_accuracy: 0.8850\nEpoch 4/5\n937/937 [==============================] - 2s 2ms/step - loss: 0.2213 - accuracy: 0.9170 - val_loss: 0.3364 - val_accuracy: 0.8832\nEpoch 5/5\n937/937 [==============================] - 2s 2ms/step - loss: 0.2125 - accuracy: 0.9221 - val_loss: 0.3500 - val_accuracy: 0.8778\n"
    },
    {
     "output_type": "execute_result",
     "data": {
      "text/plain": "<tensorflow.python.keras.callbacks.History at 0x1686bc9a0>"
     },
     "metadata": {},
     "execution_count": 20
    }
   ],
   "source": [
    "model.fit(\n",
    "    ds_train, \n",
    "    epochs=5, \n",
    "    steps_per_epoch=steps_per_epoches,\n",
    "    validation_data=ds_test,\n",
    "    validation_steps=10000//64\n",
    ")"
   ]
  },
  {
   "cell_type": "code",
   "execution_count": null,
   "metadata": {},
   "outputs": [],
   "source": []
  }
 ],
 "metadata": {
  "language_info": {
   "codemirror_mode": {
    "name": "ipython",
    "version": 3
   },
   "file_extension": ".py",
   "mimetype": "text/x-python",
   "name": "python",
   "nbconvert_exporter": "python",
   "pygments_lexer": "ipython3",
   "version": "3.8.2-final"
  },
  "orig_nbformat": 2,
  "kernelspec": {
   "name": "python38264bitvenvvenvf5a17cbe826c4d4e9483d636e22827b5",
   "display_name": "Python 3.8.2 64-bit ('venv': venv)"
  }
 },
 "nbformat": 4,
 "nbformat_minor": 2
}