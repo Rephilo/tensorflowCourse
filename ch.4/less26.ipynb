{
 "cells": [
  {
   "cell_type": "markdown",
   "metadata": {},
   "source": [
    "CNN(卷积神经网络)"
   ]
  },
  {
   "cell_type": "markdown",
   "metadata": {},
   "source": [
    "卷积层\n",
    "ksize 卷积核大小\n",
    "strides 卷积核移动跨度(设置大之后会使生成图像变小)\n",
    "paddings 边缘填充(不足时使用0填充)"
   ]
  },
  {
   "cell_type": "markdown",
   "source": [
    "非线性层\n",
    "relu激活层"
   ],
   "metadata": {
    "collapsed": false,
    "pycharm": {
     "name": "#%% md\n"
    }
   }
  },
  {
   "cell_type": "markdown",
   "metadata": {
    "pycharm": {
     "name": "#%% md\n"
    }
   },
   "source": [
    "池化层(减小图像)\n",
    "最大池化 将同个核中的值取最大值保留\n",
    "平均池化 将同个核中的值取平均值保留"
   ]
  },
  {
   "cell_type": "markdown",
   "source": [
    "全连接层\n"
   ],
   "metadata": {
    "collapsed": false
   }
  }
 ],
 "metadata": {
  "language_info": {
   "codemirror_mode": {
    "name": "ipython",
    "version": 3
   },
   "file_extension": ".py",
   "mimetype": "text/x-python",
   "name": "python",
   "nbconvert_exporter": "python",
   "pygments_lexer": "ipython3",
   "version": 3
  },
  "orig_nbformat": 2
 },
 "nbformat": 4,
 "nbformat_minor": 2
}